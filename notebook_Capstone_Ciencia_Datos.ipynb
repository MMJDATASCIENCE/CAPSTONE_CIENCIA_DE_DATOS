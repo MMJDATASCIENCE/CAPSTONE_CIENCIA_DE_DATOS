{
  "metadata": {
    "language_info": {
      "codemirror_mode": {
        "name": "python",
        "version": 3
      },
      "file_extension": ".py",
      "mimetype": "text/x-python",
      "name": "python",
      "nbconvert_exporter": "python",
      "pygments_lexer": "ipython3",
      "version": "3.8"
    },
    "kernelspec": {
      "name": "python",
      "display_name": "Python (Pyodide)",
      "language": "python"
    }
  },
  "nbformat_minor": 4,
  "nbformat": 4,
  "cells": [
    {
      "cell_type": "code",
      "source": "import pandas as pd\nimport numpy as np",
      "metadata": {
        "trusted": true
      },
      "execution_count": 1,
      "outputs": []
    },
    {
      "cell_type": "markdown",
      "source": "Este cuaderno se utilizará para el proyecto final Capstone del programa especializado Ciencia de Datos de IBM.",
      "metadata": {}
    },
    {
      "cell_type": "code",
      "source": "print(\"¡Hola, Proyecto Final del Curso!\")",
      "metadata": {
        "trusted": true
      },
      "execution_count": 2,
      "outputs": [
        {
          "name": "stdout",
          "text": "¡Hola, Proyecto Final del Curso!\n",
          "output_type": "stream"
        }
      ]
    }
  ]
}
